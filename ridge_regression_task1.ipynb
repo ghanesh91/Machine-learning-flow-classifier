{
 "cells": [
  {
   "cell_type": "markdown",
   "metadata": {},
   "source": [
    "# Task 1\n",
    "\n",
    "# Ridge regression "
   ]
  },
  {
   "cell_type": "markdown",
   "metadata": {},
   "source": [
    "### Initialization"
   ]
  },
  {
   "cell_type": "code",
   "execution_count": 1,
   "metadata": {},
   "outputs": [],
   "source": [
    "%matplotlib inline\n",
    "import numpy as np\n",
    "import math\n",
    "import h5py\n",
    "import random\n",
    "import pyJHTDB\n",
    "import time as tt\n",
    "import matplotlib.pyplot as plt\n",
    "from scipy import ndimage as ndi\n",
    "from skimage import filters\n",
    "import skimage.morphology as morphology\n",
    "from skimage.morphology import square\n",
    "from sklearn.cluster import KMeans\n",
    "from sklearn.datasets import make_blobs\n",
    "from matplotlib import cm\n",
    "import scipy.io as sio\n",
    "import time\n",
    "import matplotlib.animation as animation\n",
    "from sklearn.model_selection import train_test_split \n",
    "from sklearn.linear_model import Ridge,RidgeCV,RidgeClassifierCV\n",
    "from sklearn.preprocessing import StandardScaler\n",
    "from sklearn.model_selection import cross_val_score, cross_val_predict, cross_validate\n",
    "from sklearn import metrics\n",
    "import pandas as pd\n",
    "from sklearn.preprocessing import OneHotEncoder\n",
    "from sklearn.preprocessing import LabelEncoder\n",
    "from sklearn.model_selection import KFold, StratifiedKFold # import KFold\n",
    "import matplotlib.pylab as pylab\n",
    "params = {'legend.fontsize': 'x-large',\n",
    "         'axes.labelsize': 'x-large',\n",
    "         'axes.titlesize':'x-large',\n",
    "         'xtick.labelsize':'x-large',\n",
    "         'ytick.labelsize':'x-large',\n",
    "         'font.family':\"Times New Roman\"}\n",
    "pylab.rcParams.update(params)\n",
    "# load shared library\n",
    "lTDB = pyJHTDB.libJHTDB()\n",
    "#initialize webservices\n",
    "lTDB.initialize()\n",
    "\n",
    "#Add token\n",
    "auth_token  = \"edu.jhu.burgers-2e898d7f\"\n",
    "lTDB.add_token(auth_token)\n",
    "\n",
    "dataset = 'transition_bl'\n",
    "\n",
    "spatialInterp  = 0  # no spatial interpolation\n",
    "temporalInterp = 0  # no time interpolation\n",
    "FD4NoInt       = 40 # 4th-order FD, no spatial interpolation"
   ]
  },
  {
   "cell_type": "markdown",
   "metadata": {},
   "source": [
    "### Get training and test data from HDF5 files"
   ]
  },
  {
   "cell_type": "code",
   "execution_count": 2,
   "metadata": {},
   "outputs": [],
   "source": [
    "#Read Training and Test data\n",
    "data_t0 = h5py.File('data_t0_TNT_45x30x48.h5','r')\n",
    "data_t1000 = h5py.File('data_t1000_TNT_45x30x48.h5','r')\n",
    "Z=data_t0['Z']\n",
    "X=data_t0['X']\n",
    "Y=data_t0['Y']\n",
    "x=X[1,:,1]\n",
    "y=Y[:,1,1]\n",
    "z=Z[1,1,:]"
   ]
  },
  {
   "cell_type": "markdown",
   "metadata": {},
   "source": [
    "### Display data label"
   ]
  },
  {
   "cell_type": "code",
   "execution_count": 3,
   "metadata": {},
   "outputs": [
    {
     "data": {
      "text/plain": [
       "['TNT',\n",
       " 'X',\n",
       " 'Y',\n",
       " 'Z',\n",
       " 'dudx',\n",
       " 'dudy',\n",
       " 'dudz',\n",
       " 'dvdx',\n",
       " 'dvdy',\n",
       " 'dvdz',\n",
       " 'dwdx',\n",
       " 'dwdy',\n",
       " 'dwdz',\n",
       " 'u',\n",
       " 'up',\n",
       " 'v',\n",
       " 'vp',\n",
       " 'w',\n",
       " 'x',\n",
       " 'y']"
      ]
     },
     "execution_count": 3,
     "metadata": {},
     "output_type": "execute_result"
    }
   ],
   "source": [
    "list(data_t0.keys())"
   ]
  },
  {
   "cell_type": "markdown",
   "metadata": {},
   "source": [
    "### Training ($t=0$) and Test ($t=1000$) data"
   ]
  },
  {
   "cell_type": "code",
   "execution_count": 4,
   "metadata": {},
   "outputs": [],
   "source": [
    "niy=Z.shape[0]\n",
    "nix=Z.shape[1]\n",
    "niz=Z.shape[2]\n",
    "X_t0=np.zeros((nix*niy*niz,16),dtype=np.float64)\n",
    "y_t0_TNT=np.zeros((nix*niy*niz,1),dtype=object)\n",
    "y_t0=np.zeros((nix*niy*niz,1),dtype=np.float64)\n",
    "X_t1000=np.zeros((nix*niy*niz,16),dtype=np.float64)\n",
    "y_t1000_TNT=np.zeros((nix*niy*niz,1),dtype=object)\n",
    "y_t1000=np.zeros((nix*niy*niz,1),dtype=np.float64)\n",
    "\n",
    "X_t0[:,0]=data_t0['u']\n",
    "X_t0[:,1]=data_t0['v']\n",
    "X_t0[:,2]=data_t0['w']\n",
    "X_t0[:,3]=data_t0['up']\n",
    "X_t0[:,4]=data_t0['vp']\n",
    "X_t0[:,5]=data_t0['dudx']\n",
    "X_t0[:,6]=data_t0['dudy']\n",
    "X_t0[:,7]=data_t0['dudz']\n",
    "X_t0[:,8]=data_t0['dvdx']\n",
    "X_t0[:,9]=data_t0['dvdy']\n",
    "X_t0[:,10]=data_t0['dvdz']\n",
    "X_t0[:,11]=data_t0['dwdx']\n",
    "X_t0[:,12]=data_t0['dwdy']\n",
    "X_t0[:,13]=data_t0['dwdz']\n",
    "X_t0[:,14]=data_t0['x']\n",
    "X_t0[:,15]=data_t0['y']\n",
    "y_t0_TNT[:,0]=data_t0['TNT']\n",
    "\n",
    "X_t1000[:,0]=data_t1000['u']\n",
    "X_t1000[:,1]=data_t1000['v']\n",
    "X_t1000[:,2]=data_t1000['w']\n",
    "X_t1000[:,3]=data_t1000['up']\n",
    "X_t1000[:,4]=data_t1000['vp']\n",
    "X_t1000[:,5]=data_t1000['dudx']\n",
    "X_t1000[:,6]=data_t1000['dudy']\n",
    "X_t1000[:,7]=data_t1000['dudz']\n",
    "X_t1000[:,8]=data_t1000['dvdx']\n",
    "X_t1000[:,9]=data_t1000['dvdy']\n",
    "X_t1000[:,10]=data_t1000['dvdz']\n",
    "X_t1000[:,11]=data_t1000['dwdx']\n",
    "X_t1000[:,12]=data_t1000['dwdy']\n",
    "X_t1000[:,13]=data_t1000['dwdz']\n",
    "X_t1000[:,14]=data_t1000['x']\n",
    "X_t1000[:,15]=data_t1000['y']\n",
    "y_t1000_TNT[:,0]=data_t1000['TNT']"
   ]
  },
  {
   "cell_type": "markdown",
   "metadata": {},
   "source": [
    "### One-Hot encoding"
   ]
  },
  {
   "cell_type": "code",
   "execution_count": 5,
   "metadata": {},
   "outputs": [
    {
     "name": "stdout",
     "output_type": "stream",
     "text": [
      "Making sure T=1 and NT=0 in training data:\n",
      "Making sure T=1 and NT=0 in test data:\n"
     ]
    }
   ],
   "source": [
    "# One-Hot encoding of t0ing data\n",
    "onehot_encoder = OneHotEncoder()\n",
    "onehot_encoded = onehot_encoder.fit_transform(y_t0_TNT).toarray()\n",
    "y_t0[:,0]=onehot_encoded[:,0]\n",
    "if y_t0_TNT[0] == 'NT' and y_t0[0,0] == 1.:\n",
    "    print('Making sure T=1 and NT=0 in training data:')\n",
    "    y_t0=1-y_t0\n",
    "if y_t0_TNT[0] == 'T' and y_t0[0,0] == 0.:\n",
    "    print('Making sure T=1 and NT=0 in training data:')\n",
    "    y_t0=1-y_t0\n",
    "    \n",
    "# One-Hot encoding of t1000 data\n",
    "onehot_encoded = onehot_encoder.fit_transform(y_t1000_TNT).toarray()\n",
    "y_t1000[:,0]=onehot_encoded[:,0]\n",
    "if y_t1000_TNT[0] == 'NT' and y_t1000[0,0] == 1.:\n",
    "    print('Making sure T=1 and NT=0 in test data:')\n",
    "    y_t1000=1-y_t1000\n",
    "if y_t1000_TNT[0] == 'T' and y_t1000[0,0] == 0.:\n",
    "    print('Making sure T=1 and NT=0 in test data:')\n",
    "    y_t1000=1-y_t1000\n",
    "\n",
    "y_t0=y_t0.ravel()\n",
    "y_t1000=y_t1000.ravel()"
   ]
  },
  {
   "cell_type": "markdown",
   "metadata": {},
   "source": [
    "### Standardize features "
   ]
  },
  {
   "cell_type": "code",
   "execution_count": 6,
   "metadata": {},
   "outputs": [],
   "source": [
    "# Standarize features\n",
    "scaler = StandardScaler()\n",
    "X_t0_std = scaler.fit_transform(X_t0)\n",
    "X_t1000_std = scaler.fit_transform(X_t1000)"
   ]
  },
  {
   "cell_type": "markdown",
   "metadata": {},
   "source": [
    "### Ridge regression with cross validation"
   ]
  },
  {
   "cell_type": "code",
   "execution_count": 7,
   "metadata": {},
   "outputs": [],
   "source": [
    "#Ridge Regression with Cross Validation\n",
    "clf = RidgeClassifierCV(alphas=[1e-3, 1e-2, 1e-1, 1]).fit(X_t0_std, y_t0)"
   ]
  },
  {
   "cell_type": "code",
   "execution_count": 8,
   "metadata": {},
   "outputs": [
    {
     "data": {
      "text/plain": [
       "(array([[-0.17492305,  0.05094642,  0.10914002,  0.1014134 ,  0.07338736,\n",
       "          0.06623419, -0.12320442,  0.02616011,  0.08808731,  0.04147716,\n",
       "          0.03107706,  0.08287932,  0.07167238,  0.04743812,  0.00605464,\n",
       "         -0.00895429]]), array([-0.69907407]), 1.0)"
      ]
     },
     "execution_count": 8,
     "metadata": {},
     "output_type": "execute_result"
    }
   ],
   "source": [
    "#Optimal model parameters\n",
    "clf.coef_,clf.intercept_,clf.alpha_"
   ]
  },
  {
   "cell_type": "markdown",
   "metadata": {},
   "source": [
    "### Prediction on test data $(t=1000)$"
   ]
  },
  {
   "cell_type": "code",
   "execution_count": 10,
   "metadata": {},
   "outputs": [],
   "source": [
    "#Prediction step on test data\n",
    "y_pred=clf.predict(X_t1000_std)"
   ]
  },
  {
   "cell_type": "code",
   "execution_count": 11,
   "metadata": {},
   "outputs": [],
   "source": [
    "y_pred= y_pred.reshape((niy,niz,nix))\n",
    "y_t1000= y_t1000.reshape((niy,niz,nix))"
   ]
  },
  {
   "cell_type": "code",
   "execution_count": 12,
   "metadata": {
    "scrolled": true
   },
   "outputs": [
    {
     "data": {
      "image/png": "[encoded data removed]",
      "text/plain": [
       "<Figure size 432x216 with 1 Axes>"
      ]
     },
     "metadata": {
      "needs_background": "light"
     },
     "output_type": "display_data"
    }
   ],
   "source": [
    "plt.figure(figsize=(6,3));\n",
    "plt.contourf(x,z,y_pred[2,:,:])\n",
    "plt.xlabel('$x$', fontsize=14)\n",
    "plt.ylabel('$z$',rotation=0, fontsize=14)\n",
    "plt.title(\"Ridge Regression ($y=1$)\", fontsize=14)\n",
    "plt.ylim(z[0],z[niz-1])\n",
    "plt.savefig('ridge.png',dpi=300)"
   ]
  },
  {
   "cell_type": "code",
   "execution_count": 13,
   "metadata": {},
   "outputs": [
    {
     "data": {
      "image/png": "[encoded data removed]",
      "text/plain": [
       "<Figure size 432x216 with 1 Axes>"
      ]
     },
     "metadata": {
      "needs_background": "light"
     },
     "output_type": "display_data"
    }
   ],
   "source": [
    "plt.figure(figsize=(6,3));\n",
    "plt.contourf(x,z,y_t1000[2,:,:])\n",
    "plt.xlabel('$x$', fontsize=14)\n",
    "plt.ylabel('$z$',rotation=0, fontsize=14)\n",
    "plt.title(\"TNT (SOM) ($y=1$)\", fontsize=14)\n",
    "plt.ylim(z[0],z[niz-1])\n",
    "plt.savefig('SOM.png',dpi=300)"
   ]
  },
  {
   "cell_type": "markdown",
   "metadata": {},
   "source": [
    "### Report Mean Squared Error"
   ]
  },
  {
   "cell_type": "code",
   "execution_count": 14,
   "metadata": {},
   "outputs": [
    {
     "data": {
      "text/plain": [
       "0.03009259259259259"
      ]
     },
     "execution_count": 14,
     "metadata": {},
     "output_type": "execute_result"
    }
   ],
   "source": [
    "#Mean squared error for Ridge Regression\n",
    "metrics.mean_squared_error(y_pred.flatten(),y_t1000.flatten())"
   ]
  }
 ],
 "metadata": {
  "kernelspec": {
   "display_name": "Python 3",
   "language": "python",
   "name": "python3"
  },
  "language_info": {
   "codemirror_mode": {
    "name": "ipython",
    "version": 3
   },
   "file_extension": ".py",
   "mimetype": "text/x-python",
   "name": "python",
   "nbconvert_exporter": "python",
   "pygments_lexer": "ipython3",
   "version": "3.7.3"
  }
 },
 "nbformat": 4,
 "nbformat_minor": 2
}
